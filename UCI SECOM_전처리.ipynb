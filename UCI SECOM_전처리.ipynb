{
 "cells": [
  {
   "cell_type": "code",
   "execution_count": 1,
   "id": "1bea45e5",
   "metadata": {},
   "outputs": [],
   "source": [
    "import numpy as np\n",
    "import pandas as pd\n",
    "\n",
    "import matplotlib.pyplot as plt\n",
    "import seaborn as sns\n",
    "\n",
    "from xgboost.sklearn import XGBClassifier\n",
    "from sklearn.metrics import confusion_matrix\n",
    "from sklearn.model_selection import GridSearchCV\n",
    "from imblearn.over_sampling import SMOTE\n",
    "from sklearn.model_selection import train_test_split\n",
    "from sklearn.preprocessing import StandardScaler\n",
    "from sklearn.ensemble import RandomForestClassifier\n",
    "import xgboost as xgb\n",
    "from xgboost.sklearn import XGBClassifier\n",
    "\n",
    "import warnings\n",
    "warnings.filterwarnings(\"ignore\", category=DeprecationWarning)"
   ]
  },
  {
   "cell_type": "code",
   "execution_count": 2,
   "id": "cd0d5334",
   "metadata": {},
   "outputs": [
    {
     "name": "stdout",
     "output_type": "stream",
     "text": [
      "(1567, 592)\n"
     ]
    }
   ],
   "source": [
    "data = pd.read_csv('./uci-secom.csv')\n",
    "\n",
    "print(data.shape)"
   ]
  },
  {
   "cell_type": "code",
   "execution_count": 3,
   "id": "f3ed16b8",
   "metadata": {
    "scrolled": true
   },
   "outputs": [
    {
     "data": {
      "text/html": [
       "<div>\n",
       "<style scoped>\n",
       "    .dataframe tbody tr th:only-of-type {\n",
       "        vertical-align: middle;\n",
       "    }\n",
       "\n",
       "    .dataframe tbody tr th {\n",
       "        vertical-align: top;\n",
       "    }\n",
       "\n",
       "    .dataframe thead th {\n",
       "        text-align: right;\n",
       "    }\n",
       "</style>\n",
       "<table border=\"1\" class=\"dataframe\">\n",
       "  <thead>\n",
       "    <tr style=\"text-align: right;\">\n",
       "      <th></th>\n",
       "      <th>Time</th>\n",
       "      <th>0</th>\n",
       "      <th>1</th>\n",
       "      <th>2</th>\n",
       "      <th>3</th>\n",
       "      <th>4</th>\n",
       "      <th>5</th>\n",
       "      <th>6</th>\n",
       "      <th>7</th>\n",
       "      <th>8</th>\n",
       "      <th>...</th>\n",
       "      <th>581</th>\n",
       "      <th>582</th>\n",
       "      <th>583</th>\n",
       "      <th>584</th>\n",
       "      <th>585</th>\n",
       "      <th>586</th>\n",
       "      <th>587</th>\n",
       "      <th>588</th>\n",
       "      <th>589</th>\n",
       "      <th>Pass/Fail</th>\n",
       "    </tr>\n",
       "  </thead>\n",
       "  <tbody>\n",
       "    <tr>\n",
       "      <th>0</th>\n",
       "      <td>2008-07-19 11:55:00</td>\n",
       "      <td>3030.93</td>\n",
       "      <td>2564.00</td>\n",
       "      <td>2187.7333</td>\n",
       "      <td>1411.1265</td>\n",
       "      <td>1.3602</td>\n",
       "      <td>100.0</td>\n",
       "      <td>97.6133</td>\n",
       "      <td>0.1242</td>\n",
       "      <td>1.5005</td>\n",
       "      <td>...</td>\n",
       "      <td>NaN</td>\n",
       "      <td>0.5005</td>\n",
       "      <td>0.0118</td>\n",
       "      <td>0.0035</td>\n",
       "      <td>2.3630</td>\n",
       "      <td>NaN</td>\n",
       "      <td>NaN</td>\n",
       "      <td>NaN</td>\n",
       "      <td>NaN</td>\n",
       "      <td>-1</td>\n",
       "    </tr>\n",
       "    <tr>\n",
       "      <th>1</th>\n",
       "      <td>2008-07-19 12:32:00</td>\n",
       "      <td>3095.78</td>\n",
       "      <td>2465.14</td>\n",
       "      <td>2230.4222</td>\n",
       "      <td>1463.6606</td>\n",
       "      <td>0.8294</td>\n",
       "      <td>100.0</td>\n",
       "      <td>102.3433</td>\n",
       "      <td>0.1247</td>\n",
       "      <td>1.4966</td>\n",
       "      <td>...</td>\n",
       "      <td>208.2045</td>\n",
       "      <td>0.5019</td>\n",
       "      <td>0.0223</td>\n",
       "      <td>0.0055</td>\n",
       "      <td>4.4447</td>\n",
       "      <td>0.0096</td>\n",
       "      <td>0.0201</td>\n",
       "      <td>0.0060</td>\n",
       "      <td>208.2045</td>\n",
       "      <td>-1</td>\n",
       "    </tr>\n",
       "    <tr>\n",
       "      <th>2</th>\n",
       "      <td>2008-07-19 13:17:00</td>\n",
       "      <td>2932.61</td>\n",
       "      <td>2559.94</td>\n",
       "      <td>2186.4111</td>\n",
       "      <td>1698.0172</td>\n",
       "      <td>1.5102</td>\n",
       "      <td>100.0</td>\n",
       "      <td>95.4878</td>\n",
       "      <td>0.1241</td>\n",
       "      <td>1.4436</td>\n",
       "      <td>...</td>\n",
       "      <td>82.8602</td>\n",
       "      <td>0.4958</td>\n",
       "      <td>0.0157</td>\n",
       "      <td>0.0039</td>\n",
       "      <td>3.1745</td>\n",
       "      <td>0.0584</td>\n",
       "      <td>0.0484</td>\n",
       "      <td>0.0148</td>\n",
       "      <td>82.8602</td>\n",
       "      <td>1</td>\n",
       "    </tr>\n",
       "    <tr>\n",
       "      <th>3</th>\n",
       "      <td>2008-07-19 14:43:00</td>\n",
       "      <td>2988.72</td>\n",
       "      <td>2479.90</td>\n",
       "      <td>2199.0333</td>\n",
       "      <td>909.7926</td>\n",
       "      <td>1.3204</td>\n",
       "      <td>100.0</td>\n",
       "      <td>104.2367</td>\n",
       "      <td>0.1217</td>\n",
       "      <td>1.4882</td>\n",
       "      <td>...</td>\n",
       "      <td>73.8432</td>\n",
       "      <td>0.4990</td>\n",
       "      <td>0.0103</td>\n",
       "      <td>0.0025</td>\n",
       "      <td>2.0544</td>\n",
       "      <td>0.0202</td>\n",
       "      <td>0.0149</td>\n",
       "      <td>0.0044</td>\n",
       "      <td>73.8432</td>\n",
       "      <td>-1</td>\n",
       "    </tr>\n",
       "    <tr>\n",
       "      <th>4</th>\n",
       "      <td>2008-07-19 15:22:00</td>\n",
       "      <td>3032.24</td>\n",
       "      <td>2502.87</td>\n",
       "      <td>2233.3667</td>\n",
       "      <td>1326.5200</td>\n",
       "      <td>1.5334</td>\n",
       "      <td>100.0</td>\n",
       "      <td>100.3967</td>\n",
       "      <td>0.1235</td>\n",
       "      <td>1.5031</td>\n",
       "      <td>...</td>\n",
       "      <td>NaN</td>\n",
       "      <td>0.4800</td>\n",
       "      <td>0.4766</td>\n",
       "      <td>0.1045</td>\n",
       "      <td>99.3032</td>\n",
       "      <td>0.0202</td>\n",
       "      <td>0.0149</td>\n",
       "      <td>0.0044</td>\n",
       "      <td>73.8432</td>\n",
       "      <td>-1</td>\n",
       "    </tr>\n",
       "  </tbody>\n",
       "</table>\n",
       "<p>5 rows × 592 columns</p>\n",
       "</div>"
      ],
      "text/plain": [
       "                  Time        0        1          2          3       4      5  \\\n",
       "0  2008-07-19 11:55:00  3030.93  2564.00  2187.7333  1411.1265  1.3602  100.0   \n",
       "1  2008-07-19 12:32:00  3095.78  2465.14  2230.4222  1463.6606  0.8294  100.0   \n",
       "2  2008-07-19 13:17:00  2932.61  2559.94  2186.4111  1698.0172  1.5102  100.0   \n",
       "3  2008-07-19 14:43:00  2988.72  2479.90  2199.0333   909.7926  1.3204  100.0   \n",
       "4  2008-07-19 15:22:00  3032.24  2502.87  2233.3667  1326.5200  1.5334  100.0   \n",
       "\n",
       "          6       7       8  ...       581     582     583     584      585  \\\n",
       "0   97.6133  0.1242  1.5005  ...       NaN  0.5005  0.0118  0.0035   2.3630   \n",
       "1  102.3433  0.1247  1.4966  ...  208.2045  0.5019  0.0223  0.0055   4.4447   \n",
       "2   95.4878  0.1241  1.4436  ...   82.8602  0.4958  0.0157  0.0039   3.1745   \n",
       "3  104.2367  0.1217  1.4882  ...   73.8432  0.4990  0.0103  0.0025   2.0544   \n",
       "4  100.3967  0.1235  1.5031  ...       NaN  0.4800  0.4766  0.1045  99.3032   \n",
       "\n",
       "      586     587     588       589  Pass/Fail  \n",
       "0     NaN     NaN     NaN       NaN         -1  \n",
       "1  0.0096  0.0201  0.0060  208.2045         -1  \n",
       "2  0.0584  0.0484  0.0148   82.8602          1  \n",
       "3  0.0202  0.0149  0.0044   73.8432         -1  \n",
       "4  0.0202  0.0149  0.0044   73.8432         -1  \n",
       "\n",
       "[5 rows x 592 columns]"
      ]
     },
     "execution_count": 3,
     "metadata": {},
     "output_type": "execute_result"
    }
   ],
   "source": [
    "data.head()"
   ]
  },
  {
   "cell_type": "code",
   "execution_count": 4,
   "id": "34718123",
   "metadata": {
    "scrolled": true
   },
   "outputs": [
    {
     "data": {
      "text/plain": [
       "False"
      ]
     },
     "execution_count": 4,
     "metadata": {},
     "output_type": "execute_result"
    }
   ],
   "source": [
    "data = data.replace(np.NaN, 0)\n",
    "data.isnull().any().any()"
   ]
  },
  {
   "cell_type": "code",
   "execution_count": 5,
   "id": "7a94bcde",
   "metadata": {},
   "outputs": [],
   "source": [
    "# 데이터 시각화\n",
    "unique_vals = data['Pass/Fail'].unique()\n",
    "targets = [data.loc[data['Pass/Fail'] == val] for val in unique_vals]"
   ]
  },
  {
   "cell_type": "code",
   "execution_count": 6,
   "id": "d124b2e4",
   "metadata": {
    "scrolled": true
   },
   "outputs": [
    {
     "data": {
      "image/png": "[encoded data removed]",
      "text/plain": [
       "<Figure size 800x800 with 1 Axes>"
      ]
     },
     "metadata": {},
     "output_type": "display_data"
    },
    {
     "data": {
      "image/png": "[encoded data removed]",
      "text/plain": [
       "<Figure size 800x800 with 1 Axes>"
      ]
     },
     "metadata": {},
     "output_type": "display_data"
    }
   ],
   "source": [
    "# 양품, 불량품 수치 확인\n",
    "labels = ['Pass', 'Fail']\n",
    "size = data['Pass/Fail'].value_counts()\n",
    "colors = ['blue', 'green']\n",
    "explode = [0, 0.1]\n",
    "\n",
    "plt.style.use('seaborn-deep')\n",
    "plt.rcParams['figure.figsize'] = (8, 8)\n",
    "plt.pie(size, labels =labels, colors = colors, explode = explode, autopct = \"%.2f%%\", shadow = True)\n",
    "plt.axis('off')\n",
    "plt.title('Target: Pass or Fail', fontsize = 20)\n",
    "plt.legend()\n",
    "plt.show()\n",
    "data['Pass/Fail'].value_counts().plot(kind=\"bar\");"
   ]
  },
  {
   "cell_type": "code",
   "execution_count": 7,
   "id": "2c98cd1f",
   "metadata": {},
   "outputs": [],
   "source": [
    "# 데이터 전처리\n",
    "\n",
    "# 상관계수 계산\n",
    "def remove_collinear_features(x, threshold):\n",
    "    corr_matrix = x.corr()\n",
    "    iters = range(len(corr_matrix.columns) - 1)\n",
    "    drop_cols = []\n",
    "    \n",
    "    # 상관계수 계산 반복\n",
    "    for i in  iters:\n",
    "        for j in range(i+1):\n",
    "            item = corr_matrix.iloc[j:(j+1), (i+1):(i+2)]\n",
    "            col = item.columns\n",
    "            row = item.index\n",
    "            val = abs(item.values)\n",
    "            \n",
    "            # 상관계수가 임계값을 초과하는 경우\n",
    "            if val >= threshold:\n",
    "                print(col.values[0], \"|\", row.values[0], \"|\", round(val[0][0], 2))\n",
    "                drop_cols.append(col.values[0])\n",
    "                \n",
    "    drops = set(drop_cols)\n",
    "    x = x.drop(columns=drops)\n",
    "    \n",
    "    return x"
   ]
  },
  {
   "cell_type": "code",
   "execution_count": 8,
   "id": "ea3e5cbb",
   "metadata": {},
   "outputs": [
    {
     "name": "stderr",
     "output_type": "stream",
     "text": [
      "C:\\Users\\tjoeun\\AppData\\Local\\Temp\\ipykernel_7552\\2296898944.py:5: FutureWarning: The default value of numeric_only in DataFrame.corr is deprecated. In a future version, it will default to False. Select only valid columns or specify the value of numeric_only to silence this warning.\n",
      "  corr_matrix = x.corr()\n"
     ]
    },
    {
     "name": "stdout",
     "output_type": "stream",
     "text": [
      "5 | 2 | 0.99\n",
      "6 | 2 | 0.82\n",
      "6 | 5 | 0.84\n",
      "7 | 2 | 0.75\n",
      "7 | 5 | 0.77\n",
      "12 | 11 | 0.83\n",
      "17 | 11 | 0.81\n",
      "18 | 11 | 0.72\n",
      "18 | 12 | 0.79\n",
      "18 | 17 | 0.9\n",
      "22 | 21 | 0.75\n",
      "26 | 25 | 0.83\n",
      "27 | 25 | 0.98\n",
      "27 | 26 | 0.79\n",
      "30 | 29 | 0.86\n",
      "34 | 32 | 0.88\n",
      "35 | 34 | 0.83\n",
      "37 | 32 | 0.75\n",
      "37 | 34 | 0.75\n",
      "38 | 32 | 0.72\n",
      "38 | 34 | 0.72\n",
      "38 | 36 | 0.71\n",
      "38 | 37 | 0.97\n",
      "39 | 32 | 0.81\n",
      "39 | 34 | 0.91\n",
      "39 | 35 | 0.71\n",
      "39 | 37 | 0.86\n",
      "39 | 38 | 0.84\n",
      "43 | 42 | 0.82\n",
      "44 | 42 | 0.82\n",
      "46 | 42 | 0.84\n",
      "46 | 43 | 0.84\n",
      "46 | 45 | 0.74\n",
      "48 | 44 | 0.77\n",
      "49 | 42 | 1.0\n",
      "49 | 43 | 0.82\n",
      "49 | 44 | 0.82\n",
      "49 | 46 | 0.84\n",
      "50 | 42 | 0.88\n",
      "50 | 43 | 0.9\n",
      "50 | 46 | 0.97\n",
      "50 | 49 | 0.88\n",
      "51 | 47 | 0.71\n",
      "54 | 53 | 1.0\n",
      "55 | 53 | 0.95\n",
      "55 | 54 | 0.95\n",
      "56 | 53 | 0.98\n",
      "56 | 54 | 0.97\n",
      "56 | 55 | 0.96\n",
      "57 | 53 | 0.97\n",
      "57 | 54 | 0.96\n",
      "57 | 55 | 0.98\n",
      "57 | 56 | 0.99\n",
      "58 | 53 | 0.93\n",
      "58 | 54 | 0.93\n",
      "58 | 55 | 0.92\n",
      "58 | 56 | 0.96\n",
      "58 | 57 | 0.94\n",
      "61 | 60 | 0.88\n",
      "65 | 64 | 0.85\n",
      "66 | 60 | 0.97\n",
      "66 | 61 | 0.84\n",
      "66 | 62 | 0.75\n",
      "68 | 60 | 0.85\n",
      "68 | 61 | 0.87\n",
      "68 | 66 | 0.85\n",
      "69 | 60 | 0.96\n",
      "69 | 61 | 0.92\n",
      "69 | 66 | 0.97\n",
      "69 | 68 | 0.91\n",
      "70 | 60 | 0.97\n",
      "70 | 61 | 0.85\n",
      "70 | 62 | 0.76\n",
      "70 | 66 | 0.99\n",
      "70 | 68 | 0.88\n",
      "70 | 69 | 0.97\n",
      "73 | 72 | 0.98\n",
      "96 | 94 | 0.96\n",
      "98 | 94 | 0.84\n",
      "98 | 96 | 0.87\n",
      "101 | 94 | 0.73\n",
      "101 | 96 | 0.79\n",
      "101 | 98 | 0.91\n",
      "104 | 99 | 0.99\n",
      "105 | 92 | 0.99\n",
      "106 | 93 | 0.99\n",
      "110 | 109 | 1.0\n",
      "111 | 109 | 1.0\n",
      "111 | 110 | 1.0\n",
      "123 | 121 | 1.0\n",
      "124 | 121 | 1.0\n",
      "124 | 123 | 1.0\n",
      "125 | 122 | 0.74\n",
      "127 | 122 | 0.97\n",
      "128 | 126 | 0.72\n",
      "131 | 121 | 1.0\n",
      "131 | 123 | 0.99\n",
      "131 | 124 | 0.99\n",
      "132 | 121 | 0.89\n",
      "132 | 123 | 0.89\n",
      "132 | 124 | 0.89\n",
      "132 | 131 | 0.9\n",
      "133 | 121 | 0.94\n",
      "133 | 123 | 0.94\n",
      "133 | 124 | 0.94\n",
      "133 | 131 | 0.94\n",
      "133 | 132 | 0.95\n",
      "140 | 4 | 1.0\n",
      "147 | 16 | 0.87\n",
      "148 | 16 | 0.96\n",
      "148 | 147 | 0.89\n",
      "152 | 16 | 0.96\n",
      "152 | 147 | 0.9\n",
      "152 | 148 | 0.99\n",
      "154 | 16 | 0.87\n",
      "154 | 147 | 0.8\n",
      "154 | 148 | 0.94\n",
      "154 | 152 | 0.89\n",
      "163 | 159 | 0.76\n",
      "164 | 26 | 0.72\n",
      "164 | 159 | 0.8\n",
      "164 | 163 | 0.92\n",
      "165 | 159 | 0.79\n",
      "165 | 163 | 0.9\n",
      "165 | 164 | 0.96\n",
      "174 | 172 | 1.0\n",
      "185 | 184 | 0.71\n",
      "187 | 185 | 0.83\n",
      "196 | 67 | 0.86\n",
      "197 | 67 | 0.86\n",
      "197 | 196 | 0.89\n",
      "198 | 196 | 0.7\n",
      "198 | 197 | 0.72\n",
      "199 | 67 | 0.81\n",
      "199 | 196 | 0.94\n",
      "199 | 197 | 0.83\n",
      "199 | 198 | 0.72\n",
      "202 | 74 | 0.83\n",
      "202 | 201 | 0.8\n",
      "203 | 196 | 0.81\n",
      "203 | 197 | 0.71\n",
      "203 | 199 | 0.8\n",
      "203 | 200 | 0.76\n",
      "203 | 202 | 0.84\n",
      "204 | 67 | 0.9\n",
      "204 | 196 | 0.87\n",
      "204 | 197 | 0.81\n",
      "204 | 199 | 0.83\n",
      "204 | 203 | 0.79\n",
      "205 | 67 | 0.87\n",
      "205 | 196 | 0.86\n",
      "205 | 197 | 0.84\n",
      "205 | 198 | 0.71\n",
      "205 | 199 | 0.8\n",
      "205 | 204 | 0.83\n",
      "206 | 74 | 1.0\n",
      "206 | 202 | 0.83\n",
      "207 | 67 | 0.86\n",
      "207 | 196 | 0.92\n",
      "207 | 197 | 0.87\n",
      "207 | 199 | 0.88\n",
      "207 | 200 | 0.71\n",
      "207 | 203 | 0.86\n",
      "207 | 204 | 0.87\n",
      "207 | 205 | 0.87\n",
      "209 | 74 | 1.0\n",
      "209 | 202 | 0.83\n",
      "209 | 206 | 1.0\n",
      "220 | 85 | 0.97\n",
      "245 | 244 | 0.94\n",
      "246 | 244 | 0.96\n",
      "246 | 245 | 0.98\n",
      "248 | 114 | 0.7\n",
      "249 | 114 | 0.98\n",
      "249 | 248 | 0.73\n",
      "252 | 117 | 0.99\n",
      "254 | 119 | 0.8\n",
      "270 | 135 | 0.94\n",
      "271 | 136 | 0.97\n",
      "272 | 137 | 0.98\n",
      "273 | 138 | 0.93\n",
      "274 | 139 | 0.99\n",
      "275 | 4 | 1.0\n",
      "275 | 140 | 1.0\n",
      "277 | 4 | 0.71\n",
      "277 | 140 | 0.71\n",
      "277 | 142 | 0.98\n",
      "277 | 275 | 0.71\n",
      "278 | 143 | 0.92\n",
      "279 | 144 | 0.98\n",
      "280 | 145 | 0.96\n",
      "281 | 146 | 0.95\n",
      "282 | 16 | 0.87\n",
      "282 | 147 | 1.0\n",
      "282 | 148 | 0.89\n",
      "282 | 152 | 0.89\n",
      "282 | 154 | 0.8\n",
      "283 | 16 | 0.96\n",
      "283 | 147 | 0.89\n",
      "283 | 148 | 1.0\n",
      "283 | 152 | 0.99\n",
      "283 | 154 | 0.94\n",
      "283 | 282 | 0.89\n",
      "285 | 150 | 0.97\n",
      "286 | 151 | 0.99\n",
      "287 | 16 | 0.96\n",
      "287 | 147 | 0.9\n",
      "287 | 148 | 0.99\n",
      "287 | 152 | 1.0\n",
      "287 | 154 | 0.89\n",
      "287 | 282 | 0.89\n",
      "287 | 283 | 0.99\n",
      "288 | 153 | 1.0\n",
      "289 | 16 | 0.87\n",
      "289 | 147 | 0.81\n",
      "289 | 148 | 0.94\n",
      "289 | 152 | 0.89\n",
      "289 | 154 | 0.99\n",
      "289 | 282 | 0.81\n",
      "289 | 283 | 0.94\n",
      "289 | 287 | 0.89\n",
      "290 | 155 | 0.95\n",
      "291 | 156 | 0.99\n",
      "292 | 157 | 1.0\n",
      "292 | 158 | 0.7\n",
      "293 | 158 | 0.99\n",
      "293 | 292 | 0.7\n",
      "294 | 159 | 0.99\n",
      "294 | 163 | 0.79\n",
      "294 | 164 | 0.83\n",
      "294 | 165 | 0.82\n",
      "295 | 160 | 1.0\n",
      "296 | 161 | 0.99\n",
      "297 | 162 | 0.99\n",
      "298 | 159 | 0.77\n",
      "298 | 163 | 0.99\n",
      "298 | 164 | 0.94\n",
      "298 | 165 | 0.92\n",
      "298 | 294 | 0.81\n",
      "299 | 26 | 0.72\n",
      "299 | 159 | 0.8\n",
      "299 | 163 | 0.92\n",
      "299 | 164 | 1.0\n",
      "299 | 165 | 0.96\n",
      "299 | 294 | 0.83\n",
      "299 | 298 | 0.95\n",
      "300 | 159 | 0.79\n",
      "300 | 163 | 0.9\n",
      "300 | 164 | 0.97\n",
      "300 | 165 | 1.0\n",
      "300 | 294 | 0.82\n",
      "300 | 298 | 0.93\n",
      "300 | 299 | 0.97\n",
      "301 | 166 | 0.96\n",
      "302 | 167 | 0.98\n",
      "303 | 168 | 0.96\n",
      "304 | 27 | 0.71\n",
      "304 | 169 | 0.98\n",
      "305 | 170 | 0.96\n",
      "306 | 171 | 0.99\n",
      "307 | 172 | 0.96\n",
      "307 | 174 | 0.96\n",
      "308 | 173 | 0.96\n",
      "309 | 172 | 0.96\n",
      "309 | 174 | 0.96\n",
      "309 | 307 | 1.0\n",
      "310 | 175 | 0.96\n",
      "311 | 176 | 0.98\n",
      "312 | 177 | 1.0\n",
      "316 | 180 | 0.88\n",
      "317 | 181 | 0.96\n",
      "318 | 182 | 0.98\n",
      "319 | 183 | 0.98\n",
      "320 | 184 | 0.99\n",
      "320 | 185 | 0.72\n",
      "321 | 184 | 0.71\n",
      "321 | 185 | 0.99\n",
      "321 | 187 | 0.83\n",
      "321 | 320 | 0.72\n",
      "323 | 185 | 0.82\n",
      "323 | 187 | 0.99\n",
      "323 | 321 | 0.82\n",
      "324 | 188 | 0.98\n",
      "331 | 195 | 0.95\n",
      "332 | 67 | 0.88\n",
      "332 | 196 | 0.96\n",
      "332 | 197 | 0.9\n",
      "332 | 199 | 0.9\n",
      "332 | 203 | 0.71\n",
      "332 | 204 | 0.82\n",
      "332 | 205 | 0.89\n",
      "332 | 207 | 0.91\n",
      "333 | 67 | 0.87\n",
      "333 | 196 | 0.87\n",
      "333 | 197 | 0.98\n",
      "333 | 198 | 0.74\n",
      "333 | 199 | 0.8\n",
      "333 | 204 | 0.79\n",
      "333 | 205 | 0.85\n",
      "333 | 207 | 0.87\n",
      "333 | 332 | 0.9\n",
      "334 | 67 | 0.75\n",
      "334 | 196 | 0.75\n",
      "334 | 197 | 0.78\n",
      "334 | 198 | 0.99\n",
      "334 | 199 | 0.75\n",
      "334 | 204 | 0.7\n",
      "334 | 205 | 0.76\n",
      "334 | 207 | 0.73\n",
      "334 | 332 | 0.73\n",
      "334 | 333 | 0.8\n",
      "335 | 67 | 0.85\n",
      "335 | 196 | 0.93\n",
      "335 | 197 | 0.86\n",
      "335 | 199 | 0.96\n",
      "335 | 203 | 0.72\n",
      "335 | 204 | 0.79\n",
      "335 | 205 | 0.85\n",
      "335 | 207 | 0.9\n",
      "335 | 332 | 0.96\n",
      "335 | 333 | 0.86\n",
      "335 | 334 | 0.74\n",
      "336 | 67 | 0.87\n",
      "336 | 196 | 0.91\n",
      "336 | 197 | 0.9\n",
      "336 | 198 | 0.7\n",
      "336 | 199 | 0.88\n",
      "336 | 203 | 0.72\n",
      "336 | 204 | 0.81\n",
      "336 | 205 | 0.88\n",
      "336 | 207 | 0.9\n",
      "336 | 332 | 0.94\n",
      "336 | 333 | 0.9\n",
      "336 | 334 | 0.76\n",
      "336 | 335 | 0.93\n",
      "337 | 201 | 0.93\n",
      "337 | 202 | 0.81\n",
      "338 | 74 | 0.87\n",
      "338 | 201 | 0.75\n",
      "338 | 202 | 0.99\n",
      "338 | 203 | 0.86\n",
      "338 | 204 | 0.7\n",
      "338 | 206 | 0.87\n",
      "338 | 209 | 0.87\n",
      "338 | 337 | 0.76\n",
      "339 | 74 | 0.78\n",
      "339 | 196 | 0.76\n",
      "339 | 199 | 0.76\n",
      "339 | 200 | 0.73\n",
      "339 | 202 | 0.88\n",
      "339 | 203 | 0.98\n",
      "339 | 204 | 0.75\n",
      "339 | 206 | 0.78\n",
      "339 | 207 | 0.82\n",
      "339 | 209 | 0.78\n",
      "339 | 338 | 0.9\n",
      "340 | 67 | 0.95\n",
      "340 | 196 | 0.85\n",
      "340 | 197 | 0.82\n",
      "340 | 199 | 0.81\n",
      "340 | 203 | 0.72\n",
      "340 | 204 | 0.99\n",
      "340 | 205 | 0.84\n",
      "340 | 207 | 0.84\n",
      "340 | 332 | 0.82\n",
      "340 | 333 | 0.81\n",
      "340 | 334 | 0.73\n",
      "340 | 335 | 0.79\n",
      "340 | 336 | 0.82\n",
      "341 | 67 | 0.9\n",
      "341 | 196 | 0.86\n",
      "341 | 197 | 0.85\n",
      "341 | 198 | 0.72\n",
      "341 | 199 | 0.81\n",
      "341 | 204 | 0.87\n",
      "341 | 205 | 0.99\n",
      "341 | 207 | 0.87\n",
      "341 | 332 | 0.89\n",
      "341 | 333 | 0.86\n",
      "341 | 334 | 0.78\n",
      "341 | 335 | 0.85\n",
      "341 | 336 | 0.89\n",
      "341 | 340 | 0.89\n",
      "342 | 74 | 1.0\n",
      "342 | 202 | 0.83\n",
      "342 | 206 | 1.0\n",
      "342 | 209 | 1.0\n",
      "342 | 338 | 0.87\n",
      "342 | 339 | 0.78\n",
      "343 | 67 | 0.87\n",
      "343 | 196 | 0.9\n",
      "343 | 197 | 0.88\n",
      "343 | 199 | 0.87\n",
      "343 | 203 | 0.8\n",
      "343 | 204 | 0.83\n",
      "343 | 205 | 0.88\n",
      "343 | 207 | 0.98\n",
      "343 | 332 | 0.93\n",
      "343 | 333 | 0.89\n",
      "343 | 334 | 0.73\n",
      "343 | 335 | 0.92\n",
      "343 | 336 | 0.92\n",
      "343 | 339 | 0.75\n",
      "343 | 340 | 0.82\n",
      "343 | 341 | 0.88\n",
      "344 | 208 | 0.96\n",
      "346 | 345 | 0.98\n",
      "347 | 74 | 1.0\n",
      "347 | 202 | 0.83\n",
      "347 | 206 | 1.0\n",
      "347 | 209 | 1.0\n",
      "347 | 338 | 0.87\n",
      "347 | 339 | 0.78\n",
      "347 | 342 | 1.0\n",
      "348 | 210 | 0.95\n",
      "349 | 211 | 0.99\n",
      "350 | 212 | 0.99\n",
      "351 | 213 | 1.0\n",
      "352 | 214 | 0.98\n",
      "353 | 215 | 0.98\n",
      "354 | 216 | 0.97\n",
      "355 | 217 | 0.99\n",
      "356 | 218 | 0.95\n",
      "357 | 219 | 0.98\n",
      "358 | 85 | 0.99\n",
      "358 | 220 | 0.99\n",
      "359 | 221 | 0.98\n",
      "360 | 222 | 0.99\n",
      "361 | 223 | 0.98\n",
      "362 | 224 | 1.0\n",
      "363 | 225 | 0.97\n",
      "365 | 227 | 0.97\n",
      "366 | 228 | 0.97\n",
      "367 | 227 | 0.74\n",
      "367 | 365 | 0.74\n",
      "368 | 228 | 0.8\n",
      "368 | 366 | 0.77\n",
      "368 | 367 | 0.8\n",
      "376 | 238 | 0.97\n",
      "377 | 239 | 0.96\n",
      "382 | 244 | 1.0\n",
      "382 | 245 | 0.94\n",
      "382 | 246 | 0.96\n",
      "383 | 244 | 0.94\n",
      "383 | 245 | 1.0\n",
      "383 | 246 | 0.98\n",
      "383 | 382 | 0.94\n",
      "384 | 244 | 0.96\n",
      "384 | 245 | 0.98\n",
      "384 | 246 | 1.0\n",
      "384 | 382 | 0.96\n",
      "384 | 383 | 0.98\n",
      "385 | 247 | 0.9\n",
      "386 | 248 | 1.0\n",
      "386 | 249 | 0.73\n",
      "387 | 114 | 0.98\n",
      "387 | 248 | 0.73\n",
      "387 | 249 | 1.0\n",
      "387 | 386 | 0.73\n",
      "388 | 250 | 0.97\n",
      "389 | 251 | 1.0\n",
      "390 | 117 | 0.99\n",
      "390 | 252 | 1.0\n",
      "391 | 253 | 0.99\n",
      "392 | 119 | 0.79\n",
      "392 | 254 | 0.99\n",
      "393 | 255 | 0.99\n",
      "405 | 267 | 0.99\n",
      "406 | 268 | 0.97\n",
      "407 | 269 | 0.96\n",
      "408 | 135 | 1.0\n",
      "408 | 270 | 0.94\n",
      "409 | 136 | 1.0\n",
      "409 | 271 | 0.97\n",
      "410 | 137 | 1.0\n",
      "410 | 272 | 0.97\n",
      "411 | 138 | 1.0\n",
      "411 | 273 | 0.94\n",
      "412 | 139 | 0.85\n",
      "412 | 274 | 0.83\n",
      "413 | 4 | 0.94\n",
      "413 | 140 | 0.94\n",
      "413 | 275 | 0.94\n",
      "415 | 142 | 0.99\n",
      "415 | 277 | 0.97\n",
      "416 | 143 | 1.0\n",
      "416 | 278 | 0.91\n",
      "417 | 144 | 0.99\n",
      "417 | 279 | 0.97\n",
      "420 | 16 | 0.88\n",
      "420 | 147 | 1.0\n",
      "420 | 148 | 0.9\n",
      "420 | 152 | 0.91\n",
      "420 | 154 | 0.81\n",
      "420 | 282 | 1.0\n",
      "420 | 283 | 0.9\n",
      "420 | 287 | 0.91\n",
      "420 | 289 | 0.82\n",
      "421 | 16 | 0.95\n",
      "421 | 147 | 0.89\n",
      "421 | 148 | 1.0\n",
      "421 | 152 | 0.98\n",
      "421 | 154 | 0.95\n",
      "421 | 282 | 0.88\n",
      "421 | 283 | 1.0\n",
      "421 | 287 | 0.98\n",
      "421 | 289 | 0.95\n",
      "421 | 420 | 0.9\n",
      "424 | 151 | 0.98\n",
      "424 | 286 | 0.97\n",
      "425 | 16 | 0.92\n",
      "425 | 147 | 0.87\n",
      "425 | 148 | 0.96\n",
      "425 | 152 | 0.98\n",
      "425 | 154 | 0.86\n",
      "425 | 282 | 0.87\n",
      "425 | 283 | 0.96\n",
      "425 | 287 | 0.97\n",
      "425 | 289 | 0.86\n",
      "425 | 420 | 0.88\n",
      "425 | 421 | 0.95\n"
     ]
    },
    {
     "name": "stdout",
     "output_type": "stream",
     "text": [
      "426 | 153 | 1.0\n",
      "426 | 288 | 0.99\n",
      "427 | 16 | 0.89\n",
      "427 | 147 | 0.82\n",
      "427 | 148 | 0.95\n",
      "427 | 152 | 0.91\n",
      "427 | 154 | 1.0\n",
      "427 | 282 | 0.82\n",
      "427 | 283 | 0.95\n",
      "427 | 287 | 0.91\n",
      "427 | 289 | 0.99\n",
      "427 | 420 | 0.83\n",
      "427 | 421 | 0.97\n",
      "427 | 425 | 0.88\n",
      "428 | 155 | 1.0\n",
      "428 | 290 | 0.96\n",
      "429 | 156 | 1.0\n",
      "429 | 291 | 0.99\n",
      "430 | 159 | 0.87\n",
      "430 | 163 | 0.83\n",
      "430 | 164 | 0.88\n",
      "430 | 165 | 0.85\n",
      "430 | 294 | 0.89\n",
      "430 | 298 | 0.84\n",
      "430 | 299 | 0.87\n",
      "430 | 300 | 0.85\n",
      "431 | 160 | 0.81\n",
      "431 | 163 | 0.81\n",
      "431 | 164 | 0.85\n",
      "431 | 165 | 0.81\n",
      "431 | 294 | 0.72\n",
      "431 | 295 | 0.83\n",
      "431 | 298 | 0.83\n",
      "431 | 299 | 0.85\n",
      "431 | 300 | 0.82\n",
      "431 | 430 | 0.9\n",
      "434 | 26 | 0.77\n",
      "434 | 159 | 0.71\n",
      "434 | 163 | 0.88\n",
      "434 | 164 | 0.9\n",
      "434 | 165 | 0.86\n",
      "434 | 294 | 0.75\n",
      "434 | 298 | 0.89\n",
      "434 | 299 | 0.89\n",
      "434 | 300 | 0.86\n",
      "434 | 430 | 0.95\n",
      "434 | 431 | 0.93\n",
      "435 | 26 | 0.77\n",
      "435 | 159 | 0.71\n",
      "435 | 163 | 0.84\n",
      "435 | 164 | 0.91\n",
      "435 | 165 | 0.87\n",
      "435 | 294 | 0.75\n",
      "435 | 298 | 0.86\n",
      "435 | 299 | 0.9\n",
      "435 | 300 | 0.86\n",
      "435 | 430 | 0.95\n",
      "435 | 431 | 0.93\n",
      "435 | 434 | 0.99\n",
      "436 | 26 | 0.76\n",
      "436 | 159 | 0.71\n",
      "436 | 163 | 0.84\n",
      "436 | 164 | 0.9\n",
      "436 | 165 | 0.88\n",
      "436 | 294 | 0.75\n",
      "436 | 298 | 0.86\n",
      "436 | 299 | 0.9\n",
      "436 | 300 | 0.87\n",
      "436 | 430 | 0.95\n",
      "436 | 431 | 0.93\n",
      "436 | 434 | 0.99\n",
      "436 | 435 | 1.0\n",
      "437 | 166 | 0.99\n",
      "437 | 301 | 0.95\n",
      "439 | 168 | 0.79\n",
      "439 | 303 | 0.77\n",
      "440 | 27 | 0.71\n",
      "440 | 169 | 1.0\n",
      "440 | 304 | 0.98\n",
      "441 | 170 | 1.0\n",
      "441 | 305 | 0.95\n",
      "442 | 171 | 0.97\n",
      "442 | 306 | 0.96\n",
      "443 | 172 | 1.0\n",
      "443 | 174 | 1.0\n",
      "443 | 307 | 0.96\n",
      "443 | 309 | 0.96\n",
      "444 | 173 | 0.99\n",
      "444 | 308 | 0.95\n",
      "445 | 172 | 1.0\n",
      "445 | 174 | 1.0\n",
      "445 | 307 | 0.96\n",
      "445 | 309 | 0.96\n",
      "445 | 443 | 0.99\n",
      "446 | 175 | 1.0\n",
      "446 | 310 | 0.96\n",
      "447 | 176 | 1.0\n",
      "447 | 311 | 0.98\n",
      "448 | 177 | 1.0\n",
      "448 | 312 | 1.0\n",
      "452 | 180 | 0.99\n",
      "452 | 316 | 0.86\n",
      "453 | 181 | 1.0\n",
      "453 | 317 | 0.96\n",
      "454 | 182 | 0.99\n",
      "454 | 318 | 0.97\n",
      "455 | 183 | 1.0\n",
      "455 | 319 | 0.98\n",
      "456 | 184 | 0.97\n",
      "456 | 185 | 0.71\n",
      "456 | 320 | 0.96\n",
      "456 | 321 | 0.72\n",
      "457 | 185 | 1.0\n",
      "457 | 187 | 0.81\n",
      "457 | 320 | 0.7\n",
      "457 | 321 | 0.99\n",
      "457 | 323 | 0.8\n",
      "457 | 456 | 0.71\n",
      "459 | 185 | 0.82\n",
      "459 | 187 | 1.0\n",
      "459 | 321 | 0.82\n",
      "459 | 323 | 0.99\n",
      "459 | 457 | 0.81\n",
      "467 | 195 | 1.0\n",
      "467 | 331 | 0.95\n",
      "469 | 67 | 0.86\n",
      "469 | 196 | 0.89\n",
      "469 | 197 | 1.0\n",
      "469 | 198 | 0.72\n",
      "469 | 199 | 0.83\n",
      "469 | 203 | 0.71\n",
      "469 | 204 | 0.81\n",
      "469 | 205 | 0.85\n",
      "469 | 207 | 0.88\n",
      "469 | 332 | 0.91\n",
      "469 | 333 | 0.99\n",
      "469 | 334 | 0.77\n",
      "469 | 335 | 0.87\n",
      "469 | 336 | 0.91\n",
      "469 | 340 | 0.82\n",
      "469 | 341 | 0.86\n",
      "469 | 343 | 0.89\n",
      "470 | 197 | 0.7\n",
      "470 | 198 | 1.0\n",
      "470 | 333 | 0.72\n",
      "470 | 334 | 0.98\n",
      "470 | 341 | 0.7\n",
      "471 | 196 | 0.83\n",
      "471 | 199 | 0.94\n",
      "471 | 202 | 0.73\n",
      "471 | 203 | 0.8\n",
      "471 | 204 | 0.74\n",
      "471 | 207 | 0.74\n",
      "471 | 332 | 0.72\n",
      "471 | 335 | 0.83\n",
      "471 | 336 | 0.73\n",
      "471 | 337 | 0.7\n",
      "471 | 338 | 0.72\n",
      "471 | 339 | 0.79\n",
      "473 | 201 | 0.87\n",
      "473 | 337 | 0.76\n",
      "474 | 201 | 0.74\n",
      "474 | 202 | 0.71\n",
      "474 | 337 | 0.71\n",
      "474 | 473 | 0.79\n",
      "475 | 74 | 0.72\n",
      "475 | 196 | 0.78\n",
      "475 | 199 | 0.77\n",
      "475 | 200 | 0.76\n",
      "475 | 202 | 0.86\n",
      "475 | 203 | 1.0\n",
      "475 | 204 | 0.78\n",
      "475 | 206 | 0.72\n",
      "475 | 207 | 0.83\n",
      "475 | 209 | 0.72\n",
      "475 | 338 | 0.88\n",
      "475 | 339 | 0.99\n",
      "475 | 342 | 0.72\n",
      "475 | 343 | 0.76\n",
      "475 | 347 | 0.72\n",
      "475 | 471 | 0.8\n",
      "477 | 67 | 0.92\n",
      "477 | 196 | 0.88\n",
      "477 | 197 | 0.85\n",
      "477 | 199 | 0.83\n",
      "477 | 204 | 0.87\n",
      "477 | 205 | 0.99\n",
      "477 | 207 | 0.88\n",
      "477 | 332 | 0.91\n",
      "477 | 333 | 0.85\n",
      "477 | 334 | 0.76\n",
      "477 | 335 | 0.87\n",
      "477 | 336 | 0.89\n",
      "477 | 340 | 0.88\n",
      "477 | 341 | 0.99\n",
      "477 | 343 | 0.89\n",
      "477 | 469 | 0.85\n",
      "478 | 74 | 1.0\n",
      "478 | 202 | 0.83\n",
      "478 | 206 | 1.0\n",
      "478 | 209 | 1.0\n",
      "478 | 338 | 0.87\n",
      "478 | 339 | 0.78\n",
      "478 | 342 | 1.0\n",
      "478 | 347 | 1.0\n",
      "478 | 475 | 0.72\n",
      "479 | 67 | 0.85\n",
      "479 | 196 | 0.91\n",
      "479 | 197 | 0.87\n",
      "479 | 199 | 0.88\n",
      "479 | 200 | 0.75\n",
      "479 | 203 | 0.88\n",
      "479 | 204 | 0.88\n",
      "479 | 205 | 0.86\n",
      "479 | 207 | 1.0\n",
      "479 | 332 | 0.89\n",
      "479 | 333 | 0.86\n",
      "479 | 334 | 0.74\n",
      "479 | 335 | 0.88\n",
      "479 | 336 | 0.89\n",
      "479 | 338 | 0.71\n",
      "479 | 339 | 0.84\n",
      "479 | 340 | 0.85\n",
      "479 | 341 | 0.86\n",
      "479 | 343 | 0.97\n",
      "479 | 469 | 0.87\n",
      "479 | 471 | 0.76\n",
      "479 | 475 | 0.86\n",
      "479 | 477 | 0.86\n",
      "480 | 208 | 0.8\n",
      "480 | 344 | 0.78\n",
      "490 | 218 | 0.98\n",
      "490 | 356 | 0.93\n",
      "491 | 219 | 1.0\n",
      "491 | 357 | 0.97\n",
      "492 | 85 | 0.97\n",
      "492 | 220 | 1.0\n",
      "492 | 358 | 0.99\n",
      "493 | 221 | 1.0\n",
      "493 | 359 | 0.98\n",
      "494 | 222 | 1.0\n",
      "494 | 360 | 1.0\n",
      "495 | 223 | 1.0\n",
      "495 | 361 | 0.97\n",
      "496 | 224 | 0.82\n",
      "496 | 362 | 0.82\n",
      "497 | 225 | 0.99\n",
      "497 | 363 | 0.97\n",
      "516 | 244 | 1.0\n",
      "516 | 245 | 0.94\n",
      "516 | 246 | 0.96\n",
      "516 | 382 | 1.0\n",
      "516 | 383 | 0.94\n",
      "516 | 384 | 0.96\n",
      "517 | 244 | 0.95\n",
      "517 | 245 | 1.0\n",
      "517 | 246 | 0.98\n",
      "517 | 382 | 0.95\n",
      "517 | 383 | 1.0\n",
      "517 | 384 | 0.98\n",
      "517 | 516 | 0.95\n",
      "518 | 244 | 0.96\n",
      "518 | 245 | 0.98\n",
      "518 | 246 | 1.0\n",
      "518 | 382 | 0.96\n",
      "518 | 383 | 0.98\n",
      "518 | 384 | 1.0\n",
      "518 | 516 | 0.96\n",
      "518 | 517 | 0.98\n",
      "519 | 247 | 0.97\n",
      "519 | 385 | 0.96\n",
      "520 | 248 | 1.0\n",
      "520 | 249 | 0.73\n",
      "520 | 386 | 1.0\n",
      "520 | 387 | 0.73\n",
      "522 | 250 | 0.99\n",
      "522 | 388 | 0.96\n",
      "523 | 251 | 1.0\n",
      "523 | 389 | 1.0\n",
      "524 | 117 | 0.98\n",
      "524 | 252 | 1.0\n",
      "524 | 390 | 1.0\n",
      "525 | 253 | 1.0\n",
      "525 | 391 | 0.99\n",
      "526 | 119 | 0.81\n",
      "526 | 254 | 1.0\n",
      "526 | 392 | 0.99\n",
      "527 | 255 | 1.0\n",
      "527 | 393 | 0.98\n",
      "539 | 267 | 1.0\n",
      "539 | 405 | 0.99\n",
      "540 | 268 | 1.0\n",
      "540 | 406 | 0.97\n",
      "541 | 269 | 0.97\n",
      "541 | 407 | 0.92\n",
      "545 | 543 | 0.99\n",
      "547 | 546 | 0.74\n",
      "548 | 546 | 0.75\n",
      "548 | 547 | 0.99\n",
      "549 | 546 | 0.73\n",
      "550 | 547 | 0.81\n",
      "550 | 548 | 0.81\n",
      "552 | 546 | 0.73\n",
      "552 | 549 | 1.0\n",
      "553 | 547 | 0.82\n",
      "553 | 548 | 0.82\n",
      "553 | 550 | 0.99\n",
      "554 | 551 | 1.0\n",
      "555 | 549 | 0.89\n",
      "555 | 552 | 0.89\n",
      "556 | 547 | 0.8\n",
      "556 | 548 | 0.8\n",
      "556 | 550 | 1.0\n",
      "556 | 553 | 0.99\n",
      "557 | 551 | 1.0\n",
      "557 | 554 | 1.0\n",
      "560 | 559 | 0.89\n",
      "561 | 559 | 0.98\n",
      "561 | 560 | 0.82\n",
      "563 | 562 | 0.91\n",
      "564 | 562 | 0.72\n",
      "564 | 563 | 0.72\n",
      "566 | 562 | 0.73\n",
      "566 | 563 | 0.72\n",
      "566 | 564 | 0.99\n",
      "567 | 563 | 0.7\n",
      "567 | 565 | 0.99\n",
      "568 | 562 | 0.72\n",
      "568 | 563 | 0.72\n",
      "568 | 564 | 1.0\n",
      "568 | 566 | 0.99\n",
      "569 | 565 | 0.96\n",
      "569 | 567 | 0.96\n",
      "573 | 572 | 0.79\n",
      "574 | 572 | 0.99\n",
      "574 | 573 | 0.78\n",
      "575 | 572 | 0.78\n",
      "575 | 573 | 0.98\n",
      "575 | 574 | 0.77\n",
      "576 | 572 | 0.99\n",
      "576 | 573 | 0.79\n",
      "576 | 574 | 0.99\n",
      "576 | 575 | 0.78\n",
      "577 | 572 | 0.86\n",
      "577 | 573 | 0.96\n",
      "577 | 574 | 0.85\n",
      "577 | 575 | 0.93\n",
      "577 | 576 | 0.86\n",
      "579 | 578 | 0.74\n",
      "580 | 578 | 0.74\n",
      "580 | 579 | 0.99\n",
      "581 | 579 | 0.71\n",
      "584 | 583 | 0.99\n",
      "585 | 583 | 1.0\n",
      "585 | 584 | 1.0\n",
      "588 | 587 | 0.97\n"
     ]
    }
   ],
   "source": [
    "# 상관관계가 높은 column 제거(70% 이상)\n",
    "data = remove_collinear_features(data, 0.70)"
   ]
  },
  {
   "cell_type": "code",
   "execution_count": 9,
   "id": "264387cc",
   "metadata": {},
   "outputs": [
    {
     "data": {
      "text/plain": [
       "(1567, 307)"
      ]
     },
     "execution_count": 9,
     "metadata": {},
     "output_type": "execute_result"
    }
   ],
   "source": [
    "# Time 열 제거\n",
    "data = data.drop(columns =  ['Time'], axis = 1)\n",
    "\n",
    "data.shape"
   ]
  },
  {
   "cell_type": "code",
   "execution_count": 10,
   "id": "74037ad1",
   "metadata": {
    "scrolled": true
   },
   "outputs": [
    {
     "data": {
      "text/html": [
       "<div>\n",
       "<style scoped>\n",
       "    .dataframe tbody tr th:only-of-type {\n",
       "        vertical-align: middle;\n",
       "    }\n",
       "\n",
       "    .dataframe tbody tr th {\n",
       "        vertical-align: top;\n",
       "    }\n",
       "\n",
       "    .dataframe thead th {\n",
       "        text-align: right;\n",
       "    }\n",
       "</style>\n",
       "<table border=\"1\" class=\"dataframe\">\n",
       "  <thead>\n",
       "    <tr style=\"text-align: right;\">\n",
       "      <th></th>\n",
       "      <th>0</th>\n",
       "      <th>1</th>\n",
       "      <th>2</th>\n",
       "      <th>3</th>\n",
       "      <th>4</th>\n",
       "      <th>8</th>\n",
       "      <th>9</th>\n",
       "      <th>10</th>\n",
       "      <th>11</th>\n",
       "      <th>13</th>\n",
       "      <th>...</th>\n",
       "      <th>570</th>\n",
       "      <th>571</th>\n",
       "      <th>572</th>\n",
       "      <th>578</th>\n",
       "      <th>582</th>\n",
       "      <th>583</th>\n",
       "      <th>586</th>\n",
       "      <th>587</th>\n",
       "      <th>589</th>\n",
       "      <th>Pass/Fail</th>\n",
       "    </tr>\n",
       "  </thead>\n",
       "  <tbody>\n",
       "    <tr>\n",
       "      <th>0</th>\n",
       "      <td>3030.93</td>\n",
       "      <td>2564.00</td>\n",
       "      <td>2187.7333</td>\n",
       "      <td>1411.1265</td>\n",
       "      <td>1.3602</td>\n",
       "      <td>1.5005</td>\n",
       "      <td>0.0162</td>\n",
       "      <td>-0.0034</td>\n",
       "      <td>0.9455</td>\n",
       "      <td>0.0</td>\n",
       "      <td>...</td>\n",
       "      <td>533.8500</td>\n",
       "      <td>2.1113</td>\n",
       "      <td>8.95</td>\n",
       "      <td>0.0000</td>\n",
       "      <td>0.5005</td>\n",
       "      <td>0.0118</td>\n",
       "      <td>0.0000</td>\n",
       "      <td>0.0000</td>\n",
       "      <td>0.0000</td>\n",
       "      <td>-1</td>\n",
       "    </tr>\n",
       "    <tr>\n",
       "      <th>1</th>\n",
       "      <td>3095.78</td>\n",
       "      <td>2465.14</td>\n",
       "      <td>2230.4222</td>\n",
       "      <td>1463.6606</td>\n",
       "      <td>0.8294</td>\n",
       "      <td>1.4966</td>\n",
       "      <td>-0.0005</td>\n",
       "      <td>-0.0148</td>\n",
       "      <td>0.9627</td>\n",
       "      <td>0.0</td>\n",
       "      <td>...</td>\n",
       "      <td>535.0164</td>\n",
       "      <td>2.4335</td>\n",
       "      <td>5.92</td>\n",
       "      <td>0.0096</td>\n",
       "      <td>0.5019</td>\n",
       "      <td>0.0223</td>\n",
       "      <td>0.0096</td>\n",
       "      <td>0.0201</td>\n",
       "      <td>208.2045</td>\n",
       "      <td>-1</td>\n",
       "    </tr>\n",
       "    <tr>\n",
       "      <th>2</th>\n",
       "      <td>2932.61</td>\n",
       "      <td>2559.94</td>\n",
       "      <td>2186.4111</td>\n",
       "      <td>1698.0172</td>\n",
       "      <td>1.5102</td>\n",
       "      <td>1.4436</td>\n",
       "      <td>0.0041</td>\n",
       "      <td>0.0013</td>\n",
       "      <td>0.9615</td>\n",
       "      <td>0.0</td>\n",
       "      <td>...</td>\n",
       "      <td>535.0245</td>\n",
       "      <td>2.0293</td>\n",
       "      <td>11.21</td>\n",
       "      <td>0.0584</td>\n",
       "      <td>0.4958</td>\n",
       "      <td>0.0157</td>\n",
       "      <td>0.0584</td>\n",
       "      <td>0.0484</td>\n",
       "      <td>82.8602</td>\n",
       "      <td>1</td>\n",
       "    </tr>\n",
       "    <tr>\n",
       "      <th>3</th>\n",
       "      <td>2988.72</td>\n",
       "      <td>2479.90</td>\n",
       "      <td>2199.0333</td>\n",
       "      <td>909.7926</td>\n",
       "      <td>1.3204</td>\n",
       "      <td>1.4882</td>\n",
       "      <td>-0.0124</td>\n",
       "      <td>-0.0033</td>\n",
       "      <td>0.9629</td>\n",
       "      <td>0.0</td>\n",
       "      <td>...</td>\n",
       "      <td>530.5682</td>\n",
       "      <td>2.0253</td>\n",
       "      <td>9.33</td>\n",
       "      <td>0.0202</td>\n",
       "      <td>0.4990</td>\n",
       "      <td>0.0103</td>\n",
       "      <td>0.0202</td>\n",
       "      <td>0.0149</td>\n",
       "      <td>73.8432</td>\n",
       "      <td>-1</td>\n",
       "    </tr>\n",
       "    <tr>\n",
       "      <th>4</th>\n",
       "      <td>3032.24</td>\n",
       "      <td>2502.87</td>\n",
       "      <td>2233.3667</td>\n",
       "      <td>1326.5200</td>\n",
       "      <td>1.5334</td>\n",
       "      <td>1.5031</td>\n",
       "      <td>-0.0031</td>\n",
       "      <td>-0.0072</td>\n",
       "      <td>0.9569</td>\n",
       "      <td>0.0</td>\n",
       "      <td>...</td>\n",
       "      <td>532.0155</td>\n",
       "      <td>2.0275</td>\n",
       "      <td>8.83</td>\n",
       "      <td>0.0000</td>\n",
       "      <td>0.4800</td>\n",
       "      <td>0.4766</td>\n",
       "      <td>0.0202</td>\n",
       "      <td>0.0149</td>\n",
       "      <td>73.8432</td>\n",
       "      <td>-1</td>\n",
       "    </tr>\n",
       "  </tbody>\n",
       "</table>\n",
       "<p>5 rows × 307 columns</p>\n",
       "</div>"
      ],
      "text/plain": [
       "         0        1          2          3       4       8       9      10  \\\n",
       "0  3030.93  2564.00  2187.7333  1411.1265  1.3602  1.5005  0.0162 -0.0034   \n",
       "1  3095.78  2465.14  2230.4222  1463.6606  0.8294  1.4966 -0.0005 -0.0148   \n",
       "2  2932.61  2559.94  2186.4111  1698.0172  1.5102  1.4436  0.0041  0.0013   \n",
       "3  2988.72  2479.90  2199.0333   909.7926  1.3204  1.4882 -0.0124 -0.0033   \n",
       "4  3032.24  2502.87  2233.3667  1326.5200  1.5334  1.5031 -0.0031 -0.0072   \n",
       "\n",
       "       11   13  ...       570     571    572     578     582     583     586  \\\n",
       "0  0.9455  0.0  ...  533.8500  2.1113   8.95  0.0000  0.5005  0.0118  0.0000   \n",
       "1  0.9627  0.0  ...  535.0164  2.4335   5.92  0.0096  0.5019  0.0223  0.0096   \n",
       "2  0.9615  0.0  ...  535.0245  2.0293  11.21  0.0584  0.4958  0.0157  0.0584   \n",
       "3  0.9629  0.0  ...  530.5682  2.0253   9.33  0.0202  0.4990  0.0103  0.0202   \n",
       "4  0.9569  0.0  ...  532.0155  2.0275   8.83  0.0000  0.4800  0.4766  0.0202   \n",
       "\n",
       "      587       589  Pass/Fail  \n",
       "0  0.0000    0.0000         -1  \n",
       "1  0.0201  208.2045         -1  \n",
       "2  0.0484   82.8602          1  \n",
       "3  0.0149   73.8432         -1  \n",
       "4  0.0149   73.8432         -1  \n",
       "\n",
       "[5 rows x 307 columns]"
      ]
     },
     "execution_count": 10,
     "metadata": {},
     "output_type": "execute_result"
    }
   ],
   "source": [
    "data.head()"
   ]
  },
  {
   "cell_type": "code",
   "execution_count": 11,
   "id": "46cc82c8",
   "metadata": {},
   "outputs": [],
   "source": [
    "# data.to_csv('UCI SECOM_sub.csv')"
   ]
  },
  {
   "cell_type": "code",
   "execution_count": 12,
   "id": "eb5186cb",
   "metadata": {},
   "outputs": [
    {
     "name": "stdout",
     "output_type": "stream",
     "text": [
      "(1567, 306)\n",
      "(1567,)\n"
     ]
    }
   ],
   "source": [
    "# 독립, 종속데이터 분리\n",
    "\n",
    "x = data.iloc[:,:306]\n",
    "y = data[\"Pass/Fail\"]\n",
    "\n",
    "print(x.shape)\n",
    "print(y.shape)"
   ]
  },
  {
   "cell_type": "code",
   "execution_count": 13,
   "id": "255213b5",
   "metadata": {},
   "outputs": [
    {
     "name": "stdout",
     "output_type": "stream",
     "text": [
      "(1096, 306)\n",
      "(471, 306)\n",
      "(1096,)\n",
      "(471,)\n"
     ]
    }
   ],
   "source": [
    "# train, test 모델 분리\n",
    "\n",
    "from sklearn.model_selection import train_test_split\n",
    "\n",
    "x_train, x_test, y_train, y_test = train_test_split(x, y, test_size = 0.3, random_state = 1)\n",
    "\n",
    "print(x_train.shape)\n",
    "print(x_test.shape)\n",
    "print(y_train.shape)\n",
    "print(y_test.shape)"
   ]
  },
  {
   "cell_type": "code",
   "execution_count": 14,
   "id": "12bea698",
   "metadata": {},
   "outputs": [],
   "source": [
    "# 표준화\n",
    "from sklearn.preprocessing import StandardScaler\n",
    "\n",
    "sc = StandardScaler()\n",
    "\n",
    "x_train = sc.fit_transform(x_train)\n",
    "x_test = sc.transform(x_test)"
   ]
  },
  {
   "cell_type": "markdown",
   "id": "5ae79839",
   "metadata": {},
   "source": [
    "## Under-Sampling"
   ]
  },
  {
   "cell_type": "markdown",
   "id": "b83f0ce2",
   "metadata": {},
   "source": [
    " - Pass/Fail 데이터 분리"
   ]
  },
  {
   "cell_type": "code",
   "execution_count": 15,
   "id": "76897906",
   "metadata": {},
   "outputs": [
    {
     "name": "stdout",
     "output_type": "stream",
     "text": [
      "104\n"
     ]
    }
   ],
   "source": [
    "failed_tests = np.array(data[data['Pass/Fail'] == 1].index)\n",
    "no_failed_tests = len(failed_tests)\n",
    "\n",
    "print(no_failed_tests)"
   ]
  },
  {
   "cell_type": "code",
   "execution_count": 16,
   "id": "bd2e5234",
   "metadata": {},
   "outputs": [
    {
     "name": "stdout",
     "output_type": "stream",
     "text": [
      "1463\n"
     ]
    }
   ],
   "source": [
    "normal_indices = data[data['Pass/Fail'] == -1]\n",
    "no_normal_indices = len(normal_indices)\n",
    "\n",
    "print(no_normal_indices)"
   ]
  },
  {
   "cell_type": "code",
   "execution_count": 17,
   "id": "d0409b04",
   "metadata": {},
   "outputs": [
    {
     "name": "stdout",
     "output_type": "stream",
     "text": [
      "104\n"
     ]
    }
   ],
   "source": [
    "# Pass 데이터에서 무작위로 104개 추출\n",
    "random_normal_indices = np.random.choice(no_normal_indices, size = no_failed_tests, replace = True)\n",
    "random_normal_indices = np.array(random_normal_indices)\n",
    "\n",
    "print(len(random_normal_indices))"
   ]
  },
  {
   "cell_type": "code",
   "execution_count": 18,
   "id": "a6959c51",
   "metadata": {
    "scrolled": true
   },
   "outputs": [
    {
     "name": "stdout",
     "output_type": "stream",
     "text": [
      "208\n"
     ]
    }
   ],
   "source": [
    "under_sample = np.concatenate([failed_tests, random_normal_indices])\n",
    "print(len(under_sample))"
   ]
  },
  {
   "cell_type": "code",
   "execution_count": 19,
   "id": "d849d4bf",
   "metadata": {},
   "outputs": [],
   "source": [
    "undersample_data = data.iloc[under_sample, :]"
   ]
  },
  {
   "cell_type": "code",
   "execution_count": 20,
   "id": "fa5e48cd",
   "metadata": {},
   "outputs": [
    {
     "name": "stdout",
     "output_type": "stream",
     "text": [
      "(208, 306)\n",
      "(208, 1)\n"
     ]
    }
   ],
   "source": [
    "x = undersample_data.iloc[:, undersample_data.columns != 'Pass/Fail'] \n",
    "y = undersample_data.iloc[:, undersample_data.columns == 'Pass/Fail']\n",
    "\n",
    "print(x.shape)\n",
    "print(y.shape)"
   ]
  },
  {
   "cell_type": "code",
   "execution_count": 21,
   "id": "63c18cbd",
   "metadata": {
    "scrolled": true
   },
   "outputs": [
    {
     "name": "stdout",
     "output_type": "stream",
     "text": [
      "(145, 306)\n",
      "(145, 1)\n",
      "(63, 306)\n",
      "(63, 1)\n"
     ]
    }
   ],
   "source": [
    "# train, test 분리\n",
    "from sklearn.model_selection import train_test_split\n",
    "\n",
    "x_train_us, x_test_us, y_train_us, y_test_us = train_test_split(x, y, test_size = 0.3, random_state = 1)\n",
    "\n",
    "print(x_train_us.shape)\n",
    "print(y_train_us.shape)\n",
    "print(x_test_us.shape)\n",
    "print(y_test_us.shape)"
   ]
  },
  {
   "cell_type": "code",
   "execution_count": 22,
   "id": "8280f048",
   "metadata": {},
   "outputs": [],
   "source": [
    "# 표준화\n",
    "sc = StandardScaler()\n",
    "x_train_us = sc.fit_transform(x_train_us)\n",
    "x_test_us = sc.transform(x_test_us)"
   ]
  },
  {
   "cell_type": "markdown",
   "id": "a31370f4",
   "metadata": {},
   "source": [
    "## XGBoost(Under-Sampling)"
   ]
  },
  {
   "cell_type": "code",
   "execution_count": 23,
   "id": "ac43a077",
   "metadata": {},
   "outputs": [
    {
     "name": "stderr",
     "output_type": "stream",
     "text": [
      "c:\\python38\\lib\\site-packages\\sklearn\\preprocessing\\_label.py:116: DataConversionWarning: A column-vector y was passed when a 1d array was expected. Please change the shape of y to (n_samples, ), for example using ravel().\n",
      "  y = column_or_1d(y, warn=True)\n"
     ]
    }
   ],
   "source": [
    "from sklearn.preprocessing import LabelEncoder\n",
    "le = LabelEncoder()\n",
    "y_train_us = le.fit_transform(y_train_us)"
   ]
  },
  {
   "cell_type": "code",
   "execution_count": 24,
   "id": "82c13cea",
   "metadata": {},
   "outputs": [],
   "source": [
    "import xgboost as xgb\n",
    "from xgboost.sklearn import XGBClassifier\n",
    "model = XGBClassifier()\n",
    "\n",
    "model.fit(x_train_us, y_train_us)\n",
    "\n",
    "y_pred = model.predict(x_test_us)"
   ]
  },
  {
   "cell_type": "code",
   "execution_count": 25,
   "id": "1323b544",
   "metadata": {},
   "outputs": [
    {
     "name": "stdout",
     "output_type": "stream",
     "text": [
      "[[17 13]\n",
      " [11 22]]\n"
     ]
    },
    {
     "data": {
      "text/plain": [
       "0.6190476190476191"
      ]
     },
     "execution_count": 25,
     "metadata": {},
     "output_type": "execute_result"
    }
   ],
   "source": [
    "from sklearn.metrics import confusion_matrix, accuracy_score\n",
    "y_pred = model.predict(x_test_us)\n",
    "y_pred = le.inverse_transform(y_pred)\n",
    "CM = confusion_matrix(y_test_us, y_pred)\n",
    "print(CM)\n",
    "accuracy_score(y_test_us, y_pred)"
   ]
  },
  {
   "cell_type": "code",
   "execution_count": 26,
   "id": "ba9d5957",
   "metadata": {
    "scrolled": true
   },
   "outputs": [
    {
     "data": {
      "text/plain": [
       "<Axes: >"
      ]
     },
     "execution_count": 26,
     "metadata": {},
     "output_type": "execute_result"
    },
    {
     "data": {
      "image/png": "[encoded data removed]",
      "text/plain": [
       "<Figure size 500x500 with 2 Axes>"
      ]
     },
     "metadata": {},
     "output_type": "display_data"
    }
   ],
   "source": [
    "CM = confusion_matrix(y_test_us, y_pred)\n",
    "\n",
    "\n",
    "plt.rcParams['figure.figsize'] = (5, 5)\n",
    "sns.set(style = 'dark', font_scale = 1.4)\n",
    "sns.heatmap(CM, annot = True, annot_kws = {\"size\": 15})"
   ]
  },
  {
   "cell_type": "code",
   "execution_count": 27,
   "id": "e50ace07",
   "metadata": {
    "scrolled": true
   },
   "outputs": [
    {
     "data": {
      "image/png": "[encoded data removed]",
      "text/plain": [
       "<Figure size 500x500 with 1 Axes>"
      ]
     },
     "metadata": {},
     "output_type": "display_data"
    }
   ],
   "source": [
    "colors = plt.cm.spring(np.linspace(0, 1, 9))\n",
    "xgb.plot_importance(model, height = 1, color = colors, grid = True, importance_type = 'cover', show_values = False)\n",
    "\n",
    "plt.rcParams['figure.figsize'] = (100, 100)\n",
    "plt.xlabel('The F-Score for each features')\n",
    "plt.ylabel('Importances')\n",
    "plt.show()"
   ]
  },
  {
   "cell_type": "markdown",
   "id": "a2f7260b",
   "metadata": {},
   "source": [
    "## RandomForest(Under-Sampling)"
   ]
  },
  {
   "cell_type": "code",
   "execution_count": 23,
   "id": "2daabe45",
   "metadata": {},
   "outputs": [
    {
     "name": "stderr",
     "output_type": "stream",
     "text": [
      "C:\\Users\\tjoeun\\AppData\\Local\\Temp\\ipykernel_7552\\3796716703.py:3: DataConversionWarning: A column-vector y was passed when a 1d array was expected. Please change the shape of y to (n_samples,), for example using ravel().\n",
      "  model.fit(x_train_us, y_train_us)\n"
     ]
    }
   ],
   "source": [
    "from sklearn.ensemble import RandomForestClassifier\n",
    "model = RandomForestClassifier()\n",
    "model.fit(x_train_us, y_train_us)\n",
    "y_pred = model.predict(x_test_us)"
   ]
  },
  {
   "cell_type": "code",
   "execution_count": 24,
   "id": "c6896494",
   "metadata": {},
   "outputs": [
    {
     "data": {
      "text/plain": [
       "<Axes: >"
      ]
     },
     "execution_count": 24,
     "metadata": {},
     "output_type": "execute_result"
    },
    {
     "data": {
      "image/png": "[encoded data removed]",
      "text/plain": [
       "<Figure size 800x800 with 2 Axes>"
      ]
     },
     "metadata": {},
     "output_type": "display_data"
    }
   ],
   "source": [
    "cm = confusion_matrix(y_test_us, y_pred)\n",
    "sns.heatmap(cm, annot = True, cmap = 'rainbow')"
   ]
  },
  {
   "cell_type": "markdown",
   "id": "908e8914",
   "metadata": {},
   "source": [
    "# Over-Sampling"
   ]
  },
  {
   "cell_type": "code",
   "execution_count": 26,
   "id": "9a8eb1eb",
   "metadata": {},
   "outputs": [
    {
     "name": "stdout",
     "output_type": "stream",
     "text": [
      "(216, 306)\n",
      "(216,)\n"
     ]
    }
   ],
   "source": [
    "from imblearn.over_sampling import SMOTE\n",
    "\n",
    "x_resample, y_resample  = SMOTE().fit_resample(x, y.values.ravel())\n",
    "\n",
    "print(x_resample.shape)\n",
    "print(y_resample.shape)"
   ]
  },
  {
   "cell_type": "code",
   "execution_count": 27,
   "id": "2dc947fa",
   "metadata": {},
   "outputs": [
    {
     "name": "stdout",
     "output_type": "stream",
     "text": [
      "(145, 306)\n",
      "(145, 1)\n",
      "(63, 306)\n",
      "(63, 1)\n"
     ]
    }
   ],
   "source": [
    "x_train_os, x_test_os, y_train_os, y_test_os = train_test_split(x, y, test_size = 0.3, random_state = 1)\n",
    "\n",
    "print(x_train_os.shape)\n",
    "print(y_train_os.shape)\n",
    "print(x_test_os.shape)\n",
    "print(y_test_os.shape)"
   ]
  },
  {
   "cell_type": "code",
   "execution_count": 28,
   "id": "2461cfbe",
   "metadata": {},
   "outputs": [],
   "source": [
    "sc = StandardScaler()\n",
    "x_train_os = sc.fit_transform(x_train_os)\n",
    "x_test_os = sc.transform(x_test_os)"
   ]
  },
  {
   "cell_type": "markdown",
   "id": "f8723198",
   "metadata": {},
   "source": [
    "## XGBoost(Over-Sampling)"
   ]
  },
  {
   "cell_type": "code",
   "execution_count": 30,
   "id": "4f9b321a",
   "metadata": {},
   "outputs": [
    {
     "name": "stderr",
     "output_type": "stream",
     "text": [
      "c:\\python38\\lib\\site-packages\\sklearn\\preprocessing\\_label.py:116: DataConversionWarning: A column-vector y was passed when a 1d array was expected. Please change the shape of y to (n_samples, ), for example using ravel().\n",
      "  y = column_or_1d(y, warn=True)\n"
     ]
    }
   ],
   "source": [
    "from sklearn.preprocessing import LabelEncoder\n",
    "le = LabelEncoder()\n",
    "y_train_os = le.fit_transform(y_train_os)"
   ]
  },
  {
   "cell_type": "code",
   "execution_count": 31,
   "id": "d725c76a",
   "metadata": {},
   "outputs": [],
   "source": [
    "import xgboost as xgb\n",
    "from xgboost.sklearn import XGBClassifier\n",
    "\n",
    "model = XGBClassifier(random_state=1)\n",
    "\n",
    "model.fit(x_train_os, y_train_os)\n",
    "\n",
    "y_pred = model.predict(x_test_os)"
   ]
  },
  {
   "cell_type": "code",
   "execution_count": 32,
   "id": "c765b5c0",
   "metadata": {},
   "outputs": [
    {
     "name": "stdout",
     "output_type": "stream",
     "text": [
      "[16:15:51] WARNING: C:\\buildkite-agent\\builds\\buildkite-windows-cpu-autoscaling-group-i-07593ffd91cd9da33-1\\xgboost\\xgboost-ci-windows\\src\\learner.cc:767: \n",
      "Parameters: { \"cv\" } are not used.\n",
      "\n"
     ]
    }
   ],
   "source": [
    "from sklearn.model_selection import GridSearchCV\n",
    "\n",
    "# making a parameters list\n",
    "parameters = [{'max_depth' : [1, 2, 3, 4, 5, 6],\n",
    "              'cv' : [2,4,6,8,10],\n",
    "              'random_state' : [1]}]\n",
    "\n",
    "# making a grid search model\n",
    "grid_search = GridSearchCV(estimator = model, param_grid = parameters, scoring = 'accuracy', n_jobs = -1)\n",
    "grid_search = grid_search.fit(x_train_os, y_train_os)\n",
    "\n",
    "# getting the results\n",
    "best_accuracy = grid_search.best_score_\n",
    "best_parameters = grid_search.best_params_"
   ]
  },
  {
   "cell_type": "code",
   "execution_count": 33,
   "id": "6dc75d2a",
   "metadata": {
    "scrolled": true
   },
   "outputs": [
    {
     "name": "stdout",
     "output_type": "stream",
     "text": [
      "Best Accuracy:  0.703448275862069\n",
      "Best Parameter:  {'cv': 2, 'max_depth': 3, 'random_state': 1}\n"
     ]
    }
   ],
   "source": [
    "print(\"Best Accuracy: \", best_accuracy)\n",
    "print(\"Best Parameter: \", best_parameters)"
   ]
  },
  {
   "cell_type": "code",
   "execution_count": 34,
   "id": "396ab79d",
   "metadata": {},
   "outputs": [
    {
     "name": "stdout",
     "output_type": "stream",
     "text": [
      "[16:15:59] WARNING: C:\\buildkite-agent\\builds\\buildkite-windows-cpu-autoscaling-group-i-07593ffd91cd9da33-1\\xgboost\\xgboost-ci-windows\\src\\learner.cc:767: \n",
      "Parameters: { \"cv\", \"scale_pos_wwssssssssssseights\" } are not used.\n",
      "\n"
     ]
    }
   ],
   "source": [
    "weights = (y == 0).sum()/(1.0*(y == -1).sum())\n",
    "model = XGBClassifier(max_depth = 1, scale_pos_wwssssssssssseights = weights, n_jobs = 4,random_state=1,cv=2)\n",
    "\n",
    "model.fit(x_train_os, y_train_os)\n",
    "\n",
    "y_pred = model.predict(x_test_os)"
   ]
  },
  {
   "cell_type": "code",
   "execution_count": 35,
   "id": "12869dcc",
   "metadata": {},
   "outputs": [
    {
     "name": "stdout",
     "output_type": "stream",
     "text": [
      "[[13 17]\n",
      " [ 8 25]]\n"
     ]
    },
    {
     "data": {
      "text/plain": [
       "0.6031746031746031"
      ]
     },
     "execution_count": 35,
     "metadata": {},
     "output_type": "execute_result"
    }
   ],
   "source": [
    "from sklearn.metrics import confusion_matrix, accuracy_score\n",
    "y_pred = model.predict(x_test_os)\n",
    "y_pred = le.inverse_transform(y_pred)\n",
    "CM = confusion_matrix(y_test_os, y_pred)\n",
    "print(CM)\n",
    "accuracy_score(y_test_os, y_pred)"
   ]
  },
  {
   "cell_type": "code",
   "execution_count": 36,
   "id": "9c39d3d1",
   "metadata": {},
   "outputs": [
    {
     "data": {
      "text/plain": [
       "<Axes: >"
      ]
     },
     "execution_count": 36,
     "metadata": {},
     "output_type": "execute_result"
    },
    {
     "data": {
      "image/png": "[encoded data removed]",
      "text/plain": [
       "<Figure size 500x500 with 2 Axes>"
      ]
     },
     "metadata": {},
     "output_type": "display_data"
    }
   ],
   "source": [
    "cm = confusion_matrix(y_test_os, y_pred)\n",
    "\n",
    "\n",
    "plt.rcParams['figure.figsize'] = (5, 5)\n",
    "sns.set(style = 'dark', font_scale = 1.4)\n",
    "sns.heatmap(cm, annot = True, annot_kws = {\"size\": 15}, cmap = 'spring')"
   ]
  },
  {
   "cell_type": "markdown",
   "id": "a3353df5",
   "metadata": {},
   "source": [
    "## RandomForest(OverSampling)"
   ]
  },
  {
   "cell_type": "code",
   "execution_count": 37,
   "id": "574e6e25",
   "metadata": {},
   "outputs": [
    {
     "name": "stdout",
     "output_type": "stream",
     "text": [
      "Accuracy:  41.269841269841265\n"
     ]
    }
   ],
   "source": [
    "model = RandomForestClassifier(n_estimators=100, random_state=1,verbose=0 )\n",
    "model.fit(x_train_os, y_train_os)\n",
    "#scores_prediction = model.decision_function(x_train)\n",
    "y_pred = model.predict(x_test_os)\n",
    "print(\"Accuracy: \", model.score(x_test_os,y_test_os)*100)"
   ]
  },
  {
   "cell_type": "code",
   "execution_count": 38,
   "id": "f72465a7",
   "metadata": {},
   "outputs": [
    {
     "data": {
      "text/plain": [
       "<Axes: >"
      ]
     },
     "execution_count": 38,
     "metadata": {},
     "output_type": "execute_result"
    },
    {
     "data": {
      "image/png": "[encoded data removed]",
      "text/plain": [
       "<Figure size 500x500 with 2 Axes>"
      ]
     },
     "metadata": {},
     "output_type": "display_data"
    }
   ],
   "source": [
    "# printing the confusion matrix\n",
    "cm = confusion_matrix(y_test_os, y_pred)\n",
    "sns.heatmap(cm, annot = True, cmap = 'rainbow')"
   ]
  },
  {
   "cell_type": "code",
   "execution_count": null,
   "id": "34a59a19",
   "metadata": {},
   "outputs": [],
   "source": []
  }
 ],
 "metadata": {
  "kernelspec": {
   "display_name": "Python 3 (ipykernel)",
   "language": "python",
   "name": "python3"
  },
  "language_info": {
   "codemirror_mode": {
    "name": "ipython",
    "version": 3
   },
   "file_extension": ".py",
   "mimetype": "text/x-python",
   "name": "python",
   "nbconvert_exporter": "python",
   "pygments_lexer": "ipython3",
   "version": "3.8.7"
  }
 },
 "nbformat": 4,
 "nbformat_minor": 5
}
